{
 "cells": [
  {
   "cell_type": "markdown",
   "metadata": {},
   "source": [
    "# SQLAlchemy: Surf Up!"
   ]
  },
  {
   "cell_type": "markdown",
   "metadata": {},
   "source": [
    "# Dependencies"
   ]
  },
  {
   "cell_type": "code",
   "execution_count": 1,
   "metadata": {},
   "outputs": [],
   "source": [
    "# Set up dependecies\n",
    "%matplotlib inline\n",
    "from matplotlib import style\n",
    "style.use('fivethirtyeight')\n",
    "import matplotlib.pyplot as plt\n",
    "import matplotlib.dates as mdates\n",
    "\n",
    "import numpy as np\n",
    "import pandas as pd\n",
    "import datetime as dt\n",
    "\n",
    "## Python SQL toolkit and Object Relational Mapper\n",
    "import sqlalchemy\n",
    "from sqlalchemy.ext.automap import automap_base\n",
    "from sqlalchemy.orm import Session\n",
    "from sqlalchemy import create_engine, func, inspect\n"
   ]
  },
  {
   "cell_type": "code",
   "execution_count": 2,
   "metadata": {},
   "outputs": [],
   "source": [
    "# Set the start and end date of the trip (consitent with the information in this notebook)\n",
    "trip_star='2018-03-01'\n",
    "trip_end='2018-03-10' "
   ]
  },
  {
   "cell_type": "code",
   "execution_count": 3,
   "metadata": {},
   "outputs": [],
   "source": [
    "#Sep up dependecies for bonus part:\n",
    "import scipy.stats as sts"
   ]
  },
  {
   "cell_type": "markdown",
   "metadata": {},
   "source": [
    "## Reflect Tables into SQLAlchemy ORM"
   ]
  },
  {
   "cell_type": "code",
   "execution_count": 4,
   "metadata": {},
   "outputs": [],
   "source": [
    "engine = create_engine(\"sqlite:///Resources/hawaii.sqlite\")"
   ]
  },
  {
   "cell_type": "code",
   "execution_count": 5,
   "metadata": {},
   "outputs": [
    {
     "data": {
      "text/plain": [
       "['measurement', 'station']"
      ]
     },
     "execution_count": 5,
     "metadata": {},
     "output_type": "execute_result"
    }
   ],
   "source": [
    "# reflect an existing database into a new model\n",
    "Base=automap_base()\n",
    "\n",
    "# reflect the tables\n",
    "Base.prepare(engine, reflect=True)\n",
    "inspector=inspect(engine)\n",
    "inspector.get_table_names()\n"
   ]
  },
  {
   "cell_type": "code",
   "execution_count": 6,
   "metadata": {},
   "outputs": [
    {
     "data": {
      "text/plain": [
       "['measurement', 'station']"
      ]
     },
     "execution_count": 6,
     "metadata": {},
     "output_type": "execute_result"
    }
   ],
   "source": [
    "# We can view all of the classes that automap found\n",
    "Base.classes.keys()"
   ]
  },
  {
   "cell_type": "code",
   "execution_count": 7,
   "metadata": {},
   "outputs": [],
   "source": [
    "# Save references to each table\n",
    "Measurement=Base.classes.measurement\n",
    "Station=Base.classes.station"
   ]
  },
  {
   "cell_type": "code",
   "execution_count": 8,
   "metadata": {},
   "outputs": [],
   "source": [
    "# Create our session (link) from Python to the DB\n",
    "session=Session(engine)"
   ]
  },
  {
   "cell_type": "markdown",
   "metadata": {},
   "source": [
    "### Explore the data in the each class"
   ]
  },
  {
   "cell_type": "code",
   "execution_count": 9,
   "metadata": {},
   "outputs": [
    {
     "name": "stdout",
     "output_type": "stream",
     "text": [
      "id, INTEGER \n",
      "station, TEXT \n",
      "date, TEXT \n",
      "prcp, FLOAT \n",
      "tobs, FLOAT \n"
     ]
    }
   ],
   "source": [
    "#To inspect the columns for each table un the data base: Measurement\n",
    "for column in inspector.get_columns('measurement'):\n",
    "    print(f'{column[\"name\"]}, {column[\"type\"]} ')"
   ]
  },
  {
   "cell_type": "code",
   "execution_count": 10,
   "metadata": {},
   "outputs": [
    {
     "data": {
      "text/plain": [
       "[(1, 'USC00519397', '2010-01-01', 0.08, 65.0),\n",
       " (2, 'USC00519397', '2010-01-02', 0.0, 63.0),\n",
       " (3, 'USC00519397', '2010-01-03', 0.0, 74.0),\n",
       " (4, 'USC00519397', '2010-01-04', 0.0, 76.0),\n",
       " (5, 'USC00519397', '2010-01-06', None, 73.0),\n",
       " (6, 'USC00519397', '2010-01-07', 0.06, 70.0),\n",
       " (7, 'USC00519397', '2010-01-08', 0.0, 64.0),\n",
       " (8, 'USC00519397', '2010-01-09', 0.0, 68.0),\n",
       " (9, 'USC00519397', '2010-01-10', 0.0, 73.0),\n",
       " (10, 'USC00519397', '2010-01-11', 0.01, 64.0)]"
      ]
     },
     "execution_count": 10,
     "metadata": {},
     "output_type": "execute_result"
    }
   ],
   "source": [
    "# to see the data in measurement\n",
    "engine.execute('SELECT * FROM measurement LIMIT 10').fetchall()"
   ]
  },
  {
   "cell_type": "code",
   "execution_count": 11,
   "metadata": {
    "scrolled": true
   },
   "outputs": [
    {
     "name": "stdout",
     "output_type": "stream",
     "text": [
      "id, INTEGER \n",
      "station, TEXT \n",
      "name, TEXT \n",
      "latitude, FLOAT \n",
      "longitude, FLOAT \n",
      "elevation, FLOAT \n"
     ]
    }
   ],
   "source": [
    "#To inspect the columns for each table un the data base: Station\n",
    "for column in inspector.get_columns('station'):\n",
    "    print(f'{column[\"name\"]}, {column[\"type\"]} ')"
   ]
  },
  {
   "cell_type": "code",
   "execution_count": 12,
   "metadata": {
    "scrolled": true
   },
   "outputs": [
    {
     "data": {
      "text/plain": [
       "[(1, 'USC00519397', 'WAIKIKI 717.2, HI US', 21.2716, -157.8168, 3.0),\n",
       " (2, 'USC00513117', 'KANEOHE 838.1, HI US', 21.4234, -157.8015, 14.6),\n",
       " (3, 'USC00514830', 'KUALOA RANCH HEADQUARTERS 886.9, HI US', 21.5213, -157.8374, 7.0),\n",
       " (4, 'USC00517948', 'PEARL CITY, HI US', 21.3934, -157.9751, 11.9),\n",
       " (5, 'USC00518838', 'UPPER WAHIAWA 874.3, HI US', 21.4992, -158.0111, 306.6),\n",
       " (6, 'USC00519523', 'WAIMANALO EXPERIMENTAL FARM, HI US', 21.33556, -157.71139, 19.5),\n",
       " (7, 'USC00519281', 'WAIHEE 837.5, HI US', 21.45167, -157.84888999999998, 32.9),\n",
       " (8, 'USC00511918', 'HONOLULU OBSERVATORY 702.2, HI US', 21.3152, -157.9992, 0.9),\n",
       " (9, 'USC00516128', 'MANOA LYON ARBO 785.2, HI US', 21.3331, -157.8025, 152.4)]"
      ]
     },
     "execution_count": 12,
     "metadata": {},
     "output_type": "execute_result"
    }
   ],
   "source": [
    "#to see the data in station\n",
    "engine.execute('SELECT * FROM station LIMIT 15').fetchall()"
   ]
  },
  {
   "cell_type": "code",
   "execution_count": 13,
   "metadata": {
    "scrolled": true
   },
   "outputs": [
    {
     "data": {
      "text/plain": [
       "[('2010-01-01', 0.08, 'WAIKIKI 717.2, HI US'),\n",
       " ('2010-01-01', 0.28, 'KANEOHE 838.1, HI US'),\n",
       " ('2010-01-01', 0.21, 'UPPER WAHIAWA 874.3, HI US'),\n",
       " ('2010-01-01', 0.15, 'WAIMANALO EXPERIMENTAL FARM, HI US'),\n",
       " ('2010-01-01', 0.15, 'WAIHEE 837.5, HI US'),\n",
       " ('2010-01-01', 0.05, 'HONOLULU OBSERVATORY 702.2, HI US'),\n",
       " ('2010-01-01', 0.14, 'MANOA LYON ARBO 785.2, HI US')]"
      ]
     },
     "execution_count": 13,
     "metadata": {},
     "output_type": "execute_result"
    }
   ],
   "source": [
    "# exploring how tables are conect\n",
    "engine.execute(\"\"\"\n",
    "SELECT measurement.date, measurement.prcp, station.name \n",
    "FROM measurement \n",
    "INNER JOIN station ON \n",
    "measurement.station=station.station\n",
    "WHERE measurement.date=='2010-01-01'\n",
    "\"\"\").fetchall()"
   ]
  },
  {
   "cell_type": "code",
   "execution_count": 14,
   "metadata": {},
   "outputs": [
    {
     "data": {
      "text/plain": [
       "[('2010-01-01', 0.08, 'WAIKIKI 717.2, HI US'),\n",
       " ('2010-01-02', 0.0, 'WAIKIKI 717.2, HI US'),\n",
       " ('2010-01-03', 0.0, 'WAIKIKI 717.2, HI US'),\n",
       " ('2010-01-04', 0.0, 'WAIKIKI 717.2, HI US'),\n",
       " ('2010-01-06', None, 'WAIKIKI 717.2, HI US')]"
      ]
     },
     "execution_count": 14,
     "metadata": {},
     "output_type": "execute_result"
    }
   ],
   "source": [
    "# exploring how tbales are conect\n",
    "engine.execute(\"\"\"\n",
    "SELECT measurement.date, measurement.prcp, station.name \n",
    "FROM measurement \n",
    "INNER JOIN station ON \n",
    "measurement.station=station.station\n",
    "WHERE station.name=='WAIKIKI 717.2, HI US'\n",
    "LIMIT 5\n",
    "\"\"\").fetchall()"
   ]
  },
  {
   "cell_type": "markdown",
   "metadata": {},
   "source": [
    "# Exploratory Climate Analysis"
   ]
  },
  {
   "cell_type": "code",
   "execution_count": 15,
   "metadata": {},
   "outputs": [
    {
     "name": "stdout",
     "output_type": "stream",
     "text": [
      "\n",
      "      last data point: 2017-08-23\n",
      "      12 months of the last data point: 2016-08-23\n"
     ]
    }
   ],
   "source": [
    "# Design a query to retrieve the last 12 months of precipitation data and plot the results\n",
    "## Calculate the date 1 year ago from the last data point in the database\n",
    "last_day=(\n",
    "     session\n",
    "    .query(Measurement.date)\n",
    "    .order_by(Measurement.date.desc())\n",
    "    .first()\n",
    ")\n",
    "#auxiliar to calculate the last 12 months (a year or 365 days)\n",
    "target=dt.datetime.strptime(last_day[0],'%Y-%m-%d')-dt.timedelta(days=365)\n",
    "\n",
    "print(f'''\n",
    "      last data point: {last_day[0]}\n",
    "      12 months of the last data point: {target.strftime('%Y-%m-%d')}''')"
   ]
  },
  {
   "cell_type": "markdown",
   "metadata": {},
   "source": [
    "## Plot precipation by day"
   ]
  },
  {
   "cell_type": "code",
   "execution_count": 16,
   "metadata": {},
   "outputs": [],
   "source": [
    "# Perform a query to retrieve the data and precipitation scores\n",
    "query_target=(\n",
    "    session\n",
    "    .query(Measurement.date, func.avg(Measurement.prcp))\n",
    "    .filter(Measurement.date>=target)\n",
    "    .group_by(Measurement.date).all()\n",
    ")\n"
   ]
  },
  {
   "cell_type": "code",
   "execution_count": 17,
   "metadata": {
    "scrolled": false
   },
   "outputs": [
    {
     "data": {
      "text/html": [
       "<div>\n",
       "<style scoped>\n",
       "    .dataframe tbody tr th:only-of-type {\n",
       "        vertical-align: middle;\n",
       "    }\n",
       "\n",
       "    .dataframe tbody tr th {\n",
       "        vertical-align: top;\n",
       "    }\n",
       "\n",
       "    .dataframe thead th {\n",
       "        text-align: right;\n",
       "    }\n",
       "</style>\n",
       "<table border=\"1\" class=\"dataframe\">\n",
       "  <thead>\n",
       "    <tr style=\"text-align: right;\">\n",
       "      <th></th>\n",
       "      <th>Precipation</th>\n",
       "    </tr>\n",
       "    <tr>\n",
       "      <th>Date</th>\n",
       "      <th></th>\n",
       "    </tr>\n",
       "  </thead>\n",
       "  <tbody>\n",
       "    <tr>\n",
       "      <th>2016-08-24</th>\n",
       "      <td>1.555000</td>\n",
       "    </tr>\n",
       "    <tr>\n",
       "      <th>2016-08-25</th>\n",
       "      <td>0.077143</td>\n",
       "    </tr>\n",
       "    <tr>\n",
       "      <th>2016-08-26</th>\n",
       "      <td>0.016667</td>\n",
       "    </tr>\n",
       "    <tr>\n",
       "      <th>2016-08-27</th>\n",
       "      <td>0.064000</td>\n",
       "    </tr>\n",
       "    <tr>\n",
       "      <th>2016-08-28</th>\n",
       "      <td>0.516667</td>\n",
       "    </tr>\n",
       "  </tbody>\n",
       "</table>\n",
       "</div>"
      ],
      "text/plain": [
       "            Precipation\n",
       "Date                   \n",
       "2016-08-24     1.555000\n",
       "2016-08-25     0.077143\n",
       "2016-08-26     0.016667\n",
       "2016-08-27     0.064000\n",
       "2016-08-28     0.516667"
      ]
     },
     "execution_count": 17,
     "metadata": {},
     "output_type": "execute_result"
    }
   ],
   "source": [
    "# Save the query results as a Pandas DataFrame and set the index to the date column\n",
    "Precipitation_byday=pd.DataFrame(query_target, columns=['Date', 'Precipation'])\n",
    "Precipitation_byday=Precipitation_byday.set_index('Date')\n",
    "\n",
    "# Sort the dataframe by date\n",
    "Precipitation_byday=Precipitation_byday.sort_index(ascending=True)\n",
    "Precipitation_byday.head()"
   ]
  },
  {
   "cell_type": "code",
   "execution_count": 18,
   "metadata": {},
   "outputs": [
    {
     "data": {
      "image/png": "[encoded data removed]",
      "text/plain": [
       "<Figure size 432x288 with 1 Axes>"
      ]
     },
     "metadata": {},
     "output_type": "display_data"
    }
   ],
   "source": [
    "# Use Pandas Plotting with Matplotlib to plot the data\n",
    "idx=pd.date_range(Precipitation_byday.index[0],Precipitation_byday.index[-1])\n",
    "\n",
    "fig, ax=plt.subplots()\n",
    "ax.plot(idx, Precipitation_byday['Precipation'])\n",
    "\n",
    "# format the ticks\n",
    "ax.xaxis.set_major_locator(mdates.MonthLocator()) \n",
    "ax.xaxis.set_major_formatter(mdates.DateFormatter('%b-%Y')) \n",
    "\n",
    "\n",
    "# format titles\n",
    "plt.title('Precipitation by day in the last 12 months')\n",
    "plt.xlabel(\"Date\")\n",
    "plt.ylabel(\"Inches\")\n",
    "\n",
    "plt.xticks(rotation=90)\n",
    "plt.show()\n",
    "\n"
   ]
  },
  {
   "cell_type": "markdown",
   "metadata": {},
   "source": [
    "## Plot precipitation"
   ]
  },
  {
   "cell_type": "code",
   "execution_count": 19,
   "metadata": {},
   "outputs": [],
   "source": [
    "# Perform a query to retrieve the data and precipitation scores\n",
    "query_target_prcp=(\n",
    "    session\n",
    "    .query(Measurement.date, Measurement.prcp)\n",
    "    .filter(Measurement.date>=target).all()\n",
    ")\n"
   ]
  },
  {
   "cell_type": "code",
   "execution_count": 20,
   "metadata": {
    "scrolled": true
   },
   "outputs": [
    {
     "data": {
      "text/html": [
       "<div>\n",
       "<style scoped>\n",
       "    .dataframe tbody tr th:only-of-type {\n",
       "        vertical-align: middle;\n",
       "    }\n",
       "\n",
       "    .dataframe tbody tr th {\n",
       "        vertical-align: top;\n",
       "    }\n",
       "\n",
       "    .dataframe thead th {\n",
       "        text-align: right;\n",
       "    }\n",
       "</style>\n",
       "<table border=\"1\" class=\"dataframe\">\n",
       "  <thead>\n",
       "    <tr style=\"text-align: right;\">\n",
       "      <th></th>\n",
       "      <th>Precipation</th>\n",
       "    </tr>\n",
       "    <tr>\n",
       "      <th>Date</th>\n",
       "      <th></th>\n",
       "    </tr>\n",
       "  </thead>\n",
       "  <tbody>\n",
       "    <tr>\n",
       "      <th>2016-08-24</th>\n",
       "      <td>0.08</td>\n",
       "    </tr>\n",
       "    <tr>\n",
       "      <th>2016-08-24</th>\n",
       "      <td>1.22</td>\n",
       "    </tr>\n",
       "    <tr>\n",
       "      <th>2016-08-24</th>\n",
       "      <td>2.28</td>\n",
       "    </tr>\n",
       "    <tr>\n",
       "      <th>2016-08-24</th>\n",
       "      <td>1.45</td>\n",
       "    </tr>\n",
       "    <tr>\n",
       "      <th>2016-08-24</th>\n",
       "      <td>2.15</td>\n",
       "    </tr>\n",
       "  </tbody>\n",
       "</table>\n",
       "</div>"
      ],
      "text/plain": [
       "            Precipation\n",
       "Date                   \n",
       "2016-08-24         0.08\n",
       "2016-08-24         1.22\n",
       "2016-08-24         2.28\n",
       "2016-08-24         1.45\n",
       "2016-08-24         2.15"
      ]
     },
     "execution_count": 20,
     "metadata": {},
     "output_type": "execute_result"
    }
   ],
   "source": [
    "# Save the query results as a Pandas DataFrame and set the index to the date column\n",
    "Precipitation_dt=pd.DataFrame(query_target_prcp, columns=['Date', 'Precipation'])\n",
    "Precipitation_dt.set_index('Date', inplace=True)\n",
    "Precipitation_dt=Precipitation_dt.dropna()\n",
    "\n",
    "# Sort the dataframe by date\n",
    "Precipitation_dt=Precipitation_dt.sort_index(ascending=True)\n",
    "Precipitation_dt.head()"
   ]
  },
  {
   "cell_type": "code",
   "execution_count": 21,
   "metadata": {
    "scrolled": true
   },
   "outputs": [
    {
     "data": {
      "image/png": "[encoded data removed]",
      "text/plain": [
       "<Figure size 432x288 with 1 Axes>"
      ]
     },
     "metadata": {},
     "output_type": "display_data"
    }
   ],
   "source": [
    "# Use Pandas Plotting with Matplotlib to plot the data\n",
    "dta_aux=[dt.datetime.strptime(Precipitation_dt.index[i],'%Y-%m-%d').date() for i in range(len(Precipitation_dt.index))]\n",
    "\n",
    "fig, ax_dt=plt.subplots()\n",
    "ax_dt.plot(dta_aux, Precipitation_dt['Precipation'])\n",
    "\n",
    "# format the ticks\n",
    "ax_dt.xaxis.set_major_locator(mdates.MonthLocator()) \n",
    "ax_dt.xaxis.set_major_formatter(mdates.DateFormatter('%b-%Y')) \n",
    "\n",
    "\n",
    "## format titles\n",
    "plt.title('Precipitation in the last 12 months', fontsize='xx-large')\n",
    "plt.xlabel(\"Date\", fontsize='large')\n",
    "plt.ylabel(\"Inches\", fontsize='large')\n",
    "\n",
    "plt.xticks(rotation=90)\n",
    "plt.show()\n",
    "\n"
   ]
  },
  {
   "cell_type": "markdown",
   "metadata": {},
   "source": [
    "### Summary statistics"
   ]
  },
  {
   "cell_type": "code",
   "execution_count": 22,
   "metadata": {
    "scrolled": true
   },
   "outputs": [
    {
     "data": {
      "text/html": [
       "<div>\n",
       "<style scoped>\n",
       "    .dataframe tbody tr th:only-of-type {\n",
       "        vertical-align: middle;\n",
       "    }\n",
       "\n",
       "    .dataframe tbody tr th {\n",
       "        vertical-align: top;\n",
       "    }\n",
       "\n",
       "    .dataframe thead th {\n",
       "        text-align: right;\n",
       "    }\n",
       "</style>\n",
       "<table border=\"1\" class=\"dataframe\">\n",
       "  <thead>\n",
       "    <tr style=\"text-align: right;\">\n",
       "      <th></th>\n",
       "      <th>Precipation</th>\n",
       "    </tr>\n",
       "  </thead>\n",
       "  <tbody>\n",
       "    <tr>\n",
       "      <th>count</th>\n",
       "      <td>365.000000</td>\n",
       "    </tr>\n",
       "    <tr>\n",
       "      <th>mean</th>\n",
       "      <td>0.169987</td>\n",
       "    </tr>\n",
       "    <tr>\n",
       "      <th>std</th>\n",
       "      <td>0.295722</td>\n",
       "    </tr>\n",
       "    <tr>\n",
       "      <th>min</th>\n",
       "      <td>0.000000</td>\n",
       "    </tr>\n",
       "    <tr>\n",
       "      <th>25%</th>\n",
       "      <td>0.008571</td>\n",
       "    </tr>\n",
       "    <tr>\n",
       "      <th>50%</th>\n",
       "      <td>0.070000</td>\n",
       "    </tr>\n",
       "    <tr>\n",
       "      <th>75%</th>\n",
       "      <td>0.191667</td>\n",
       "    </tr>\n",
       "    <tr>\n",
       "      <th>max</th>\n",
       "      <td>2.380000</td>\n",
       "    </tr>\n",
       "  </tbody>\n",
       "</table>\n",
       "</div>"
      ],
      "text/plain": [
       "       Precipation\n",
       "count   365.000000\n",
       "mean      0.169987\n",
       "std       0.295722\n",
       "min       0.000000\n",
       "25%       0.008571\n",
       "50%       0.070000\n",
       "75%       0.191667\n",
       "max       2.380000"
      ]
     },
     "execution_count": 22,
     "metadata": {},
     "output_type": "execute_result"
    }
   ],
   "source": [
    "# Use Pandas to calcualte the summary statistics for the precipitation data\n",
    "Precipitation_byday.describe()"
   ]
  },
  {
   "cell_type": "code",
   "execution_count": 23,
   "metadata": {
    "scrolled": true
   },
   "outputs": [
    {
     "data": {
      "text/html": [
       "<div>\n",
       "<style scoped>\n",
       "    .dataframe tbody tr th:only-of-type {\n",
       "        vertical-align: middle;\n",
       "    }\n",
       "\n",
       "    .dataframe tbody tr th {\n",
       "        vertical-align: top;\n",
       "    }\n",
       "\n",
       "    .dataframe thead th {\n",
       "        text-align: right;\n",
       "    }\n",
       "</style>\n",
       "<table border=\"1\" class=\"dataframe\">\n",
       "  <thead>\n",
       "    <tr style=\"text-align: right;\">\n",
       "      <th></th>\n",
       "      <th>Precipation</th>\n",
       "    </tr>\n",
       "  </thead>\n",
       "  <tbody>\n",
       "    <tr>\n",
       "      <th>count</th>\n",
       "      <td>2015.000000</td>\n",
       "    </tr>\n",
       "    <tr>\n",
       "      <th>mean</th>\n",
       "      <td>0.176462</td>\n",
       "    </tr>\n",
       "    <tr>\n",
       "      <th>std</th>\n",
       "      <td>0.460288</td>\n",
       "    </tr>\n",
       "    <tr>\n",
       "      <th>min</th>\n",
       "      <td>0.000000</td>\n",
       "    </tr>\n",
       "    <tr>\n",
       "      <th>25%</th>\n",
       "      <td>0.000000</td>\n",
       "    </tr>\n",
       "    <tr>\n",
       "      <th>50%</th>\n",
       "      <td>0.020000</td>\n",
       "    </tr>\n",
       "    <tr>\n",
       "      <th>75%</th>\n",
       "      <td>0.130000</td>\n",
       "    </tr>\n",
       "    <tr>\n",
       "      <th>max</th>\n",
       "      <td>6.700000</td>\n",
       "    </tr>\n",
       "  </tbody>\n",
       "</table>\n",
       "</div>"
      ],
      "text/plain": [
       "       Precipation\n",
       "count  2015.000000\n",
       "mean      0.176462\n",
       "std       0.460288\n",
       "min       0.000000\n",
       "25%       0.000000\n",
       "50%       0.020000\n",
       "75%       0.130000\n",
       "max       6.700000"
      ]
     },
     "execution_count": 23,
     "metadata": {},
     "output_type": "execute_result"
    }
   ],
   "source": [
    "Precipitation_dt.describe()"
   ]
  },
  {
   "cell_type": "markdown",
   "metadata": {},
   "source": [
    "# Station Analysis"
   ]
  },
  {
   "cell_type": "code",
   "execution_count": 24,
   "metadata": {},
   "outputs": [
    {
     "data": {
      "text/plain": [
       "9"
      ]
     },
     "execution_count": 24,
     "metadata": {},
     "output_type": "execute_result"
    }
   ],
   "source": [
    "# Design a query to show how many stations are available in this dataset?\n",
    "session.query(Station.id).count()"
   ]
  },
  {
   "cell_type": "code",
   "execution_count": 25,
   "metadata": {},
   "outputs": [
    {
     "data": {
      "text/plain": [
       "[('WAIHEE 837.5, HI US', 'USC00519281', 2772),\n",
       " ('WAIKIKI 717.2, HI US', 'USC00519397', 2724),\n",
       " ('KANEOHE 838.1, HI US', 'USC00513117', 2709),\n",
       " ('WAIMANALO EXPERIMENTAL FARM, HI US', 'USC00519523', 2669),\n",
       " ('MANOA LYON ARBO 785.2, HI US', 'USC00516128', 2612),\n",
       " ('KUALOA RANCH HEADQUARTERS 886.9, HI US', 'USC00514830', 2202),\n",
       " ('HONOLULU OBSERVATORY 702.2, HI US', 'USC00511918', 1979),\n",
       " ('PEARL CITY, HI US', 'USC00517948', 1372),\n",
       " ('UPPER WAHIAWA 874.3, HI US', 'USC00518838', 511)]"
      ]
     },
     "execution_count": 25,
     "metadata": {},
     "output_type": "execute_result"
    }
   ],
   "source": [
    "# What are the most active stations? (i.e. what stations have the most rows)?\n",
    "# List the stations and the counts in descending order.\n",
    "query_station=(\n",
    "    session\n",
    "    .query(Station.name, Measurement.station, func.count(Measurement.station))\n",
    "    .filter(Measurement.station==Station.station)\n",
    "    .group_by(Measurement.station)\n",
    "    .order_by(func.count(Measurement.station).desc()).all()\n",
    ")\n",
    "query_station"
   ]
  },
  {
   "cell_type": "code",
   "execution_count": 26,
   "metadata": {},
   "outputs": [
    {
     "name": "stdout",
     "output_type": "stream",
     "text": [
      "For the most active station: WAIHEE 837.5, HI US\n",
      "--------------------------------------------------\n",
      "Lowest temperature: 54.0\n",
      "Average temperature: 71.66\n",
      "Highests tempararure: 85.0\n",
      "\n"
     ]
    }
   ],
   "source": [
    "# Using the station id from the previous query, calculate the lowest temperature recorded, \n",
    "# highest temperature recorded, and average temperature of the most active station?\n",
    "most_activeStation=query_station[0][1]\n",
    "\n",
    "query_mostActiveStation=(\n",
    "    session\n",
    "    .query(func.round(func.min(Measurement.tobs),2),func.round(func.avg(Measurement.tobs),2),func.round(func.max(Measurement.tobs),2))\n",
    "    .filter(Measurement.station==most_activeStation).all()\n",
    ")\n",
    "print(f\"\"\"For the most active station: {query_station[0][0]}\n",
    "--------------------------------------------------\n",
    "Lowest temperature: {query_mostActiveStation[0][0]}\n",
    "Average temperature: {query_mostActiveStation[0][1]}\n",
    "Highests tempararure: {query_mostActiveStation[0][2]}\n",
    "\"\"\")"
   ]
  },
  {
   "cell_type": "code",
   "execution_count": 27,
   "metadata": {},
   "outputs": [],
   "source": [
    "# Choose the station with the highest number of temperature observations.\n",
    "# Query the last 12 months of temperature observation data for this station and plot the results as a histogram\n",
    "query_stationTemperature=(\n",
    "    session\n",
    "    .query(Station.name, Measurement.station, func.count(Measurement.tobs))\n",
    "    .filter(Measurement.station==Station.station)\n",
    "    .group_by(Measurement.station)\n",
    "    .order_by(func.count(Measurement.tobs).desc()).all()\n",
    ")\n",
    "highestNumber_Station=query_stationTemperature[0][1]\n"
   ]
  },
  {
   "cell_type": "code",
   "execution_count": 28,
   "metadata": {},
   "outputs": [
    {
     "data": {
      "text/html": [
       "<div>\n",
       "<style scoped>\n",
       "    .dataframe tbody tr th:only-of-type {\n",
       "        vertical-align: middle;\n",
       "    }\n",
       "\n",
       "    .dataframe tbody tr th {\n",
       "        vertical-align: top;\n",
       "    }\n",
       "\n",
       "    .dataframe thead th {\n",
       "        text-align: right;\n",
       "    }\n",
       "</style>\n",
       "<table border=\"1\" class=\"dataframe\">\n",
       "  <thead>\n",
       "    <tr style=\"text-align: right;\">\n",
       "      <th></th>\n",
       "      <th>Temperature</th>\n",
       "    </tr>\n",
       "    <tr>\n",
       "      <th>Station</th>\n",
       "      <th></th>\n",
       "    </tr>\n",
       "  </thead>\n",
       "  <tbody>\n",
       "    <tr>\n",
       "      <th>USC00519281</th>\n",
       "      <td>77.0</td>\n",
       "    </tr>\n",
       "    <tr>\n",
       "      <th>USC00519281</th>\n",
       "      <td>80.0</td>\n",
       "    </tr>\n",
       "    <tr>\n",
       "      <th>USC00519281</th>\n",
       "      <td>80.0</td>\n",
       "    </tr>\n",
       "    <tr>\n",
       "      <th>USC00519281</th>\n",
       "      <td>75.0</td>\n",
       "    </tr>\n",
       "    <tr>\n",
       "      <th>USC00519281</th>\n",
       "      <td>73.0</td>\n",
       "    </tr>\n",
       "  </tbody>\n",
       "</table>\n",
       "</div>"
      ],
      "text/plain": [
       "             Temperature\n",
       "Station                 \n",
       "USC00519281         77.0\n",
       "USC00519281         80.0\n",
       "USC00519281         80.0\n",
       "USC00519281         75.0\n",
       "USC00519281         73.0"
      ]
     },
     "execution_count": 28,
     "metadata": {},
     "output_type": "execute_result"
    }
   ],
   "source": [
    "# Query the last 12 months of temperature observation data for this station and plot the results as a histogram\n",
    "query_HighetsNumberTemperature=(\n",
    "    session\n",
    "    .query(Measurement.station, Measurement.tobs)\n",
    "    .filter(Measurement.station==most_activeStation)\n",
    "    .filter(Measurement.date>=target).all()\n",
    "    \n",
    ")\n",
    "Temperature_df=pd.DataFrame(query_HighetsNumberTemperature, columns=['Station','Temperature'])\n",
    "Temperature_df.set_index('Station', inplace=True)\n",
    "Temperature_df.head()"
   ]
  },
  {
   "cell_type": "code",
   "execution_count": 29,
   "metadata": {},
   "outputs": [
    {
     "data": {
      "image/png": "[encoded data removed]",
      "text/plain": [
       "<Figure size 432x288 with 1 Axes>"
      ]
     },
     "metadata": {},
     "output_type": "display_data"
    }
   ],
   "source": [
    "#plot the results as a histogram\n",
    "Temperature_df.plot.hist(by='station', bins=12)\n",
    "## format titles\n",
    "plt.title(f'Temperature in the last 12 months for: {query_stationTemperature[0][0]}', fontsize='xx-large')\n",
    "plt.xlabel(\"Temperature\", fontsize='large')\n",
    "plt.ylabel(\"Number of observations\", fontsize='large')\n",
    "plt.show()"
   ]
  },
  {
   "cell_type": "markdown",
   "metadata": {},
   "source": [
    "# Bonus Challenge Assignment"
   ]
  },
  {
   "cell_type": "markdown",
   "metadata": {},
   "source": [
    "## Temperature Analysis I: Is there a meaningful difference between the temperature in, for example, June and December?\n",
    "\n",
    "\n"
   ]
  },
  {
   "cell_type": "markdown",
   "metadata": {},
   "source": [
    "### Observations and Insights"
   ]
  },
  {
   "cell_type": "markdown",
   "metadata": {},
   "source": [
    "Derived from the fact that the series is in the same location but in different seasons of the year, a paired test is used.\n",
    "\n",
    "First, the test is performed to determine if the series has a normal distribution. Based on the p-value (in both cases less than 0.05), the null hypothesis is rejected, so the series does not have a normal distribution. Therefore a nonparametric test is performed.\n",
    "\n",
    "Based on the nonparametric paired test, the p-value is less than 0.05. Thus the null hypothesis is rejected, and we argue that the average temperature in June is significantly different from the average temperature in December."
   ]
  },
  {
   "cell_type": "code",
   "execution_count": 30,
   "metadata": {},
   "outputs": [
    {
     "name": "stdout",
     "output_type": "stream",
     "text": [
      "\n",
      "        Descriptive statistics month: 06\n",
      "        -----------------------\n",
      "              tobs\n",
      "count  1700.000000\n",
      "mean     74.944118\n",
      "std       3.257417\n",
      "min      64.000000\n",
      "25%      73.000000\n",
      "50%      75.000000\n",
      "75%      77.000000\n",
      "max      85.000000\n",
      "\n",
      "        Descriptive statistics month: 12\n",
      "        -----------------------\n",
      "              tobs\n",
      "count  1517.000000\n",
      "mean     71.041529\n",
      "std       3.745920\n",
      "min      56.000000\n",
      "25%      69.000000\n",
      "50%      71.000000\n",
      "75%      74.000000\n",
      "max      83.000000\n"
     ]
    }
   ],
   "source": [
    "##Hawaii is reputed to enjoy mild weather all year. Is there a meaningful difference between the temperature in, for example, June and December?\n",
    "##You may either use SQLAlchemy or pandas's read_csv() to perform this portion.\n",
    "##Identify the average temperature in June at all stations across all available years in the dataset. Do the same for December temperature.\n",
    "Months=['06','12']\n",
    "Queries_results=[]\n",
    "for month in Months:\n",
    "    query_month=(\n",
    "        session\n",
    "        .query(Measurement.tobs)\n",
    "        .filter(func.extract('month', Measurement.date)==month)\n",
    "    )\n",
    "    Queries_results.append(pd.DataFrame(query_month))\n",
    "\n",
    "for month in range(len(Months)):\n",
    "    print(f'''\n",
    "        Descriptive statistics month: {Months[month]}\n",
    "        -----------------------''')\n",
    "    print(Queries_results[month].describe())\n",
    "\n"
   ]
  },
  {
   "cell_type": "code",
   "execution_count": 31,
   "metadata": {},
   "outputs": [
    {
     "name": "stdout",
     "output_type": "stream",
     "text": [
      "\n",
      "        The null hypothesis that a sample comes from a normal distribution for the month: 06\n",
      "        -----------------------\n",
      "pvalue less tha 0.05, it indicates strong evidence against the null hypothesis\n",
      "\n",
      "        The null hypothesis that a sample comes from a normal distribution for the month: 12\n",
      "        -----------------------\n",
      "pvalue less tha 0.05, it indicates strong evidence against the null hypothesis\n"
     ]
    }
   ],
   "source": [
    "#Test for normal distribution\n",
    "for month in range(len(Months)):\n",
    "    T, p=sts.normaltest(Queries_results[0]['tobs'])\n",
    "    print(f'''\n",
    "        The null hypothesis that a sample comes from a normal distribution for the month: {Months[month]}\n",
    "        -----------------------''')\n",
    "    if p<0.05:\n",
    "        print(f'pvalue less tha 0.05, it indicates strong evidence against the null hypothesis')\n",
    "    else:\n",
    "        print(f'pvalue is not statistically significant and indicates strong evidence for the null hypothesis')\n"
   ]
  },
  {
   "cell_type": "code",
   "execution_count": 32,
   "metadata": {},
   "outputs": [
    {
     "name": "stdout",
     "output_type": "stream",
     "text": [
      "\n",
      "        The null hypothesis that two related paired samples come from the same distribution. In particular, it tests whether the distribution of the differences x - y is symmetric about zero\n",
      "        -----------------------\n",
      "It indicates strong evidence against the null hypothesis\n",
      "pvalue: 5.298743968897783e-159\n"
     ]
    }
   ],
   "source": [
    "##Use the t-test to determine whether the difference in the means, if any, is statistically significant. Will you use a paired t-test, or an unpaired t-test? Why\n",
    "\n",
    "# For the test the The arrays must have the same shape \n",
    "if len(Queries_results[0])<=len(Queries_results[1]):\n",
    "    shape=len(Queries_results[0])\n",
    "else:\n",
    "    shape=len(Queries_results[1])\n",
    "\n",
    "statistic, pvalue=sts.wilcoxon(Queries_results[0]['tobs'].head(shape),Queries_results[1]['tobs'].head(shape))\n",
    "\n",
    "print(f'''\n",
    "        The null hypothesis that two related paired samples come from the same distribution. In particular, it tests whether the distribution of the differences x - y is symmetric about zero\n",
    "        -----------------------''')\n",
    "if pvalue<0.05:\n",
    "    print('It indicates strong evidence against the null hypothesis')\n",
    "else:\n",
    "    print('Is not statistically significant and indicates strong evidence for the null hypothesis')\n",
    "    \n",
    "print(f'pvalue: {pvalue}')\n"
   ]
  },
  {
   "cell_type": "markdown",
   "metadata": {},
   "source": [
    "## Temperature Analysis II"
   ]
  },
  {
   "cell_type": "code",
   "execution_count": 33,
   "metadata": {},
   "outputs": [
    {
     "name": "stdout",
     "output_type": "stream",
     "text": [
      "[(62.0, 69.57, 74.0)]\n"
     ]
    }
   ],
   "source": [
    "# This function called `calc_temps` will accept start date and end date in the format '%Y-%m-%d' \n",
    "# and return the minimum, average, and maximum temperatures for that range of dates\n",
    "def calc_temps(start_date, end_date):\n",
    "    \"\"\"TMIN, TAVG, and TMAX for a list of dates.\n",
    "    \n",
    "    Args:\n",
    "        start_date (string): A date string in the format %Y-%m-%d\n",
    "        end_date (string): A date string in the format %Y-%m-%d\n",
    "        \n",
    "    Returns:\n",
    "        TMIN, TAVE, and TMAX\n",
    "    \"\"\"\n",
    "    \n",
    "    return session.\\\n",
    "        query(func.round(func.min(Measurement.tobs),2), func.round(func.avg(Measurement.tobs),2), func.round(func.max(Measurement.tobs),2)).\\\n",
    "        filter(Measurement.date >= start_date).filter(Measurement.date <= end_date).all()\n",
    "        \n",
    "# function usage example\n",
    "print(calc_temps('2012-02-28', '2012-03-05'))"
   ]
  },
  {
   "cell_type": "code",
   "execution_count": 34,
   "metadata": {},
   "outputs": [
    {
     "data": {
      "text/plain": [
       "[(62.0, 70.34, 78.0)]"
      ]
     },
     "execution_count": 34,
     "metadata": {},
     "output_type": "execute_result"
    }
   ],
   "source": [
    "# Use your previous function `calc_temps` to calculate the tmin, tavg, and tmax \n",
    "# for your trip using the previous year's data for those same dates:  (i.e., use \"2017-01-01\" if your trip start date was \"2018-01-01\")\n",
    "\n",
    "#using the defination in set up days for trip\n",
    "start_date=(dt.datetime.strptime(trip_star,'%Y-%m-%d')-dt.timedelta(days=365)).date()\n",
    "end_date=(dt.datetime.strptime(trip_end,'%Y-%m-%d')-dt.timedelta(days=365)).date()\n",
    "\n",
    "# usind unction `calc_temps`\n",
    "trip_temperature=calc_temps(start_date, end_date)\n",
    "trip_temperature"
   ]
  },
  {
   "cell_type": "code",
   "execution_count": 35,
   "metadata": {},
   "outputs": [],
   "source": [
    "# Plot the results from your previous query as a bar chart. \n",
    "# Use \"Trip Avg Temp\" as your Title\n",
    "\n",
    "trip_temperature_df=pd.DataFrame(trip_temperature, columns=['Min temp', 'Avg temp', 'Max temp'])\n",
    "\n",
    "# Use the average temperature for the y value\n",
    "mean_temp=trip_temperature_df['Avg temp']\n",
    "\n",
    "# Use the peak-to-peak (tmax-tmin) value as the y error bar (yerr)\n",
    "delta_temp=trip_temperature_df['Max temp'][0]-trip_temperature_df['Min temp'][0]\n"
   ]
  },
  {
   "cell_type": "code",
   "execution_count": 36,
   "metadata": {},
   "outputs": [
    {
     "data": {
      "image/png": "[encoded data removed]",
      "text/plain": [
       "<Figure size 432x288 with 1 Axes>"
      ]
     },
     "metadata": {},
     "output_type": "display_data"
    }
   ],
   "source": [
    "#Plot\n",
    "mean_temp.plot(kind='bar', yerr=delta_temp, color='pink', alpha=0.8)\n",
    "plt.title(f'Trip Avg Temp', fontsize='xx-large')\n",
    "plt.ylabel(\"Temp (F)\", fontsize='large')\n",
    "plt.xticks([])\n",
    "plt.grid()\n",
    "plt.show()\n"
   ]
  },
  {
   "cell_type": "code",
   "execution_count": 37,
   "metadata": {},
   "outputs": [
    {
     "name": "stdout",
     "output_type": "stream",
     "text": [
      "('USC00513117', 'KANEOHE 838.1, HI US', 21.4234, -157.8015, 14.6, 5.73)\n",
      "('USC00519281', 'WAIHEE 837.5, HI US', 21.45167, -157.84888999999998, 32.9, 5.39)\n",
      "('USC00516128', 'MANOA LYON ARBO 785.2, HI US', 21.3331, -157.8025, 152.4, 3.5)\n",
      "('USC00517948', 'PEARL CITY, HI US', 21.3934, -157.9751, 11.9, 2.98)\n",
      "('USC00519397', 'WAIKIKI 717.2, HI US', 21.2716, -157.8168, 3.0, 2.74)\n",
      "('USC00519523', 'WAIMANALO EXPERIMENTAL FARM, HI US', 21.33556, -157.71139, 19.5, 2.32)\n",
      "('USC00514830', 'KUALOA RANCH HEADQUARTERS 886.9, HI US', 21.5213, -157.8374, 7.0, 1.75)\n"
     ]
    }
   ],
   "source": [
    "# Calculate the total amount of rainfall per weather station for your trip dates using the previous year's matching dates.\n",
    "# Sort this in descending order by precipitation amount and list the station, name, latitude, longitude, and elevation\n",
    "query_RainfalTrip=(\n",
    "    session\n",
    "    .query(Station.station, Station.name, Station.latitude, Station.longitude, Station.elevation, func.round(func.sum(Measurement.prcp),2))\n",
    "    .filter(Measurement.station==Station.station)\n",
    "    .filter(Measurement.date >= start_date)\n",
    "    .filter(Measurement.date <= end_date)\n",
    "    .group_by(Measurement.station)\n",
    "    .order_by(func.round(func.sum(Measurement.prcp),2).desc()).all()\n",
    ")\n",
    "for record in query_RainfalTrip:\n",
    "    print(record)"
   ]
  },
  {
   "cell_type": "code",
   "execution_count": 38,
   "metadata": {
    "scrolled": false
   },
   "outputs": [
    {
     "data": {
      "text/plain": [
       "[(62.0, 69.0, 77.0)]"
      ]
     },
     "execution_count": 38,
     "metadata": {},
     "output_type": "execute_result"
    }
   ],
   "source": [
    "# Create a query that will calculate the daily normals \n",
    "# (i.e. the averages for tmin, tmax, and tavg for all historic data matching a specific month and day)\n",
    "\n",
    "def daily_normals(date):\n",
    "    \"\"\"Daily Normals.\n",
    "    \n",
    "    Args:\n",
    "        date (str): A date string in the format '%m-%d'\n",
    "        \n",
    "    Returns:\n",
    "        A list of tuples containing the daily normals, tmin, tavg, and tmax\n",
    "    \n",
    "    \"\"\"\n",
    "    \n",
    "    sel = [func.round(func.min(Measurement.tobs),2), func.round(func.avg(Measurement.tobs)), func.round(func.max(Measurement.tobs))]\n",
    "    return session.query(*sel).filter(func.strftime(\"%m-%d\", Measurement.date) == date).all()\n",
    "    \n",
    "daily_normals(\"01-01\")"
   ]
  },
  {
   "cell_type": "code",
   "execution_count": 39,
   "metadata": {
    "scrolled": true
   },
   "outputs": [
    {
     "data": {
      "text/plain": [
       "[(64.0, 70.0, 76.0),\n",
       " (61.0, 70.0, 78.0),\n",
       " (60.0, 70.0, 78.0),\n",
       " (57.0, 69.0, 77.0),\n",
       " (60.0, 68.0, 76.0),\n",
       " (60.0, 69.0, 76.0),\n",
       " (60.0, 69.0, 78.0),\n",
       " (59.0, 69.0, 78.0),\n",
       " (57.0, 69.0, 75.0),\n",
       " (57.0, 69.0, 75.0)]"
      ]
     },
     "execution_count": 39,
     "metadata": {},
     "output_type": "execute_result"
    }
   ],
   "source": [
    "# calculate the daily normals for your trip\n",
    "# push each tuple of calculations into a list called `normals`\n",
    "\n",
    "# Use the start and end date to create a range of dates\n",
    "range_trip=pd.date_range(start=start_date, end=end_date)\n",
    "\n",
    "# Stip off the year and save a list of %m-%d strings\n",
    "strings_range=[dt.datetime.strftime(range_trip[i], '%m-%d') for i in range(len(range_trip))]\n",
    "\n",
    "# Loop through the list of %m-%d strings and calculate the normals for each date\n",
    "normals=[]\n",
    "for day in strings_range:\n",
    "    normals.append(daily_normals(day)[0])\n",
    "\n",
    "normals\n"
   ]
  },
  {
   "cell_type": "code",
   "execution_count": 40,
   "metadata": {},
   "outputs": [
    {
     "data": {
      "text/html": [
       "<div>\n",
       "<style scoped>\n",
       "    .dataframe tbody tr th:only-of-type {\n",
       "        vertical-align: middle;\n",
       "    }\n",
       "\n",
       "    .dataframe tbody tr th {\n",
       "        vertical-align: top;\n",
       "    }\n",
       "\n",
       "    .dataframe thead th {\n",
       "        text-align: right;\n",
       "    }\n",
       "</style>\n",
       "<table border=\"1\" class=\"dataframe\">\n",
       "  <thead>\n",
       "    <tr style=\"text-align: right;\">\n",
       "      <th></th>\n",
       "      <th>Min temp</th>\n",
       "      <th>Avg temp</th>\n",
       "      <th>Max tem</th>\n",
       "    </tr>\n",
       "  </thead>\n",
       "  <tbody>\n",
       "    <tr>\n",
       "      <th>03-01</th>\n",
       "      <td>64.0</td>\n",
       "      <td>70.0</td>\n",
       "      <td>76.0</td>\n",
       "    </tr>\n",
       "    <tr>\n",
       "      <th>03-02</th>\n",
       "      <td>61.0</td>\n",
       "      <td>70.0</td>\n",
       "      <td>78.0</td>\n",
       "    </tr>\n",
       "    <tr>\n",
       "      <th>03-03</th>\n",
       "      <td>60.0</td>\n",
       "      <td>70.0</td>\n",
       "      <td>78.0</td>\n",
       "    </tr>\n",
       "    <tr>\n",
       "      <th>03-04</th>\n",
       "      <td>57.0</td>\n",
       "      <td>69.0</td>\n",
       "      <td>77.0</td>\n",
       "    </tr>\n",
       "    <tr>\n",
       "      <th>03-05</th>\n",
       "      <td>60.0</td>\n",
       "      <td>68.0</td>\n",
       "      <td>76.0</td>\n",
       "    </tr>\n",
       "    <tr>\n",
       "      <th>03-06</th>\n",
       "      <td>60.0</td>\n",
       "      <td>69.0</td>\n",
       "      <td>76.0</td>\n",
       "    </tr>\n",
       "    <tr>\n",
       "      <th>03-07</th>\n",
       "      <td>60.0</td>\n",
       "      <td>69.0</td>\n",
       "      <td>78.0</td>\n",
       "    </tr>\n",
       "    <tr>\n",
       "      <th>03-08</th>\n",
       "      <td>59.0</td>\n",
       "      <td>69.0</td>\n",
       "      <td>78.0</td>\n",
       "    </tr>\n",
       "    <tr>\n",
       "      <th>03-09</th>\n",
       "      <td>57.0</td>\n",
       "      <td>69.0</td>\n",
       "      <td>75.0</td>\n",
       "    </tr>\n",
       "    <tr>\n",
       "      <th>03-10</th>\n",
       "      <td>57.0</td>\n",
       "      <td>69.0</td>\n",
       "      <td>75.0</td>\n",
       "    </tr>\n",
       "  </tbody>\n",
       "</table>\n",
       "</div>"
      ],
      "text/plain": [
       "       Min temp  Avg temp  Max tem\n",
       "03-01      64.0      70.0     76.0\n",
       "03-02      61.0      70.0     78.0\n",
       "03-03      60.0      70.0     78.0\n",
       "03-04      57.0      69.0     77.0\n",
       "03-05      60.0      68.0     76.0\n",
       "03-06      60.0      69.0     76.0\n",
       "03-07      60.0      69.0     78.0\n",
       "03-08      59.0      69.0     78.0\n",
       "03-09      57.0      69.0     75.0\n",
       "03-10      57.0      69.0     75.0"
      ]
     },
     "execution_count": 40,
     "metadata": {},
     "output_type": "execute_result"
    }
   ],
   "source": [
    "# Load the previous query results into a Pandas DataFrame and add the `trip_dates` range as the `date` index\n",
    "normals_df=pd.DataFrame(normals, columns=['Min temp','Avg temp','Max tem'],index=strings_range)\n",
    "normals_df"
   ]
  },
  {
   "cell_type": "code",
   "execution_count": 41,
   "metadata": {},
   "outputs": [
    {
     "data": {
      "image/png": "[encoded data removed]",
      "text/plain": [
       "<Figure size 432x288 with 1 Axes>"
      ]
     },
     "metadata": {},
     "output_type": "display_data"
    }
   ],
   "source": [
    "# Plot the daily normals as an area plot with `stacked=False`\n",
    "normals_df.plot(kind=\"area\",stacked=False, rot=90,alpha=.5)\n",
    "plt.title(f'Trip Avg Temp', fontsize='xx-large')\n",
    "plt.legend(bbox_to_anchor=(1,1), fontsize=\"medium\")\n",
    "plt.ylabel(\"Temp (F)\", fontsize='large')\n",
    "plt.xlabel(\"Date\", fontsize='large')\n",
    "plt.show()"
   ]
  },
  {
   "cell_type": "code",
   "execution_count": 42,
   "metadata": {},
   "outputs": [],
   "source": [
    "#Close session\n",
    "session.close()"
   ]
  }
 ],
 "metadata": {
  "kernel_info": {
   "name": "python3"
  },
  "kernelspec": {
   "display_name": "Python 3",
   "language": "python",
   "name": "python3"
  },
  "language_info": {
   "codemirror_mode": {
    "name": "ipython",
    "version": 3
   },
   "file_extension": ".py",
   "mimetype": "text/x-python",
   "name": "python",
   "nbconvert_exporter": "python",
   "pygments_lexer": "ipython3",
   "version": "3.8.3"
  },
  "nteract": {
   "version": "0.12.3"
  },
  "varInspector": {
   "cols": {
    "lenName": 16,
    "lenType": 16,
    "lenVar": 40
   },
   "kernels_config": {
    "python": {
     "delete_cmd_postfix": "",
     "delete_cmd_prefix": "del ",
     "library": "var_list.py",
     "varRefreshCmd": "print(var_dic_list())"
    },
    "r": {
     "delete_cmd_postfix": ") ",
     "delete_cmd_prefix": "rm(",
     "library": "var_list.r",
     "varRefreshCmd": "cat(var_dic_list()) "
    }
   },
   "types_to_exclude": [
    "module",
    "function",
    "builtin_function_or_method",
    "instance",
    "_Feature"
   ],
   "window_display": false
  }
 },
 "nbformat": 4,
 "nbformat_minor": 2
}
